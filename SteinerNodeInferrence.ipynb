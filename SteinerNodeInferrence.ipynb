{
 "cells": [
  {
   "cell_type": "markdown",
   "metadata": {},
   "source": [
    "# Infer Steiner Nodes By Median"
   ]
  },
  {
   "cell_type": "code",
   "execution_count": 17,
   "metadata": {},
   "outputs": [],
   "source": [
    "import numpy as np\n",
    "import statistics as stat"
   ]
  },
  {
   "cell_type": "code",
   "execution_count": 37,
   "metadata": {},
   "outputs": [],
   "source": [
    "cell_cnt_pattern1 = np.array([2,2,2,2]).astype(int)\n",
    "cell_cnt_pattern2 = np.array([2,4,1,1]).astype(int)\n",
    "cell_cnt_pattern3 = np.array([2,0,3,3]).astype(int)\n",
    "cell_cnt_patterns = np.row_stack([cell_cnt_pattern1, cell_cnt_pattern2, cell_cnt_pattern3])"
   ]
  },
  {
   "cell_type": "code",
   "execution_count": 38,
   "metadata": {},
   "outputs": [
    {
     "data": {
      "text/plain": [
       "array([[2, 2, 2, 2],\n",
       "       [2, 4, 1, 1],\n",
       "       [2, 0, 3, 3]])"
      ]
     },
     "execution_count": 38,
     "metadata": {},
     "output_type": "execute_result"
    }
   ],
   "source": [
    "cell_cnt_patterns"
   ]
  },
  {
   "cell_type": "code",
   "execution_count": 43,
   "metadata": {},
   "outputs": [
    {
     "name": "stdout",
     "output_type": "stream",
     "text": [
      "There is no extra Steiner Node!\n"
     ]
    }
   ],
   "source": [
    "median_steiner = np.median(cell_cnt_patterns, axis=0).astype(int)\n",
    "\n",
    "FLAG = False\n",
    "\n",
    "for i in range(cell_cnt_patterns.shape[0]):\n",
    "    if np.array_equal(median_steiner,cell_cnt_patterns[i,:])==True:\n",
    "        FLAG = True\n",
    "if FLAG:\n",
    "    print(\"There is no extra Steiner Node!\")\n",
    "else:\n",
    "    print(median_steiner)"
   ]
  },
  {
   "cell_type": "code",
   "execution_count": 44,
   "metadata": {},
   "outputs": [],
   "source": [
    "cell_cnt_pattern1 = np.array([2,2,2,2]).astype(int)\n",
    "cell_cnt_pattern2 = np.array([2,4,1,3]).astype(int)\n",
    "cell_cnt_pattern3 = np.array([2,3,1,1]).astype(int)\n",
    "cell_cnt_patterns = np.row_stack([cell_cnt_pattern1, cell_cnt_pattern2, cell_cnt_pattern3])"
   ]
  },
  {
   "cell_type": "code",
   "execution_count": 45,
   "metadata": {},
   "outputs": [
    {
     "data": {
      "text/plain": [
       "array([[2, 2, 2, 2],\n",
       "       [2, 4, 1, 3],\n",
       "       [2, 3, 1, 1]])"
      ]
     },
     "execution_count": 45,
     "metadata": {},
     "output_type": "execute_result"
    }
   ],
   "source": [
    "cell_cnt_patterns"
   ]
  },
  {
   "cell_type": "code",
   "execution_count": 46,
   "metadata": {},
   "outputs": [
    {
     "name": "stdout",
     "output_type": "stream",
     "text": [
      "[2 3 1 2]\n"
     ]
    }
   ],
   "source": [
    "median_steiner = np.median(cell_cnt_patterns, axis=0).astype(int)\n",
    "\n",
    "FLAG = False\n",
    "\n",
    "for i in range(cell_cnt_patterns.shape[0]):\n",
    "    if np.array_equal(median_steiner,cell_cnt_patterns[i,:])==True:\n",
    "        FLAG = True\n",
    "if FLAG:\n",
    "    print(\"There is no extra Steiner Node!\")\n",
    "else:\n",
    "    print(median_steiner)"
   ]
  },
  {
   "cell_type": "code",
   "execution_count": null,
   "metadata": {},
   "outputs": [],
   "source": []
  }
 ],
 "metadata": {
  "kernelspec": {
   "display_name": "Python 3",
   "language": "python",
   "name": "python3"
  },
  "language_info": {
   "codemirror_mode": {
    "name": "ipython",
    "version": 3
   },
   "file_extension": ".py",
   "mimetype": "text/x-python",
   "name": "python",
   "nbconvert_exporter": "python",
   "pygments_lexer": "ipython3",
   "version": "3.6.6"
  }
 },
 "nbformat": 4,
 "nbformat_minor": 2
}
